{
 "cells": [
  {
   "cell_type": "code",
   "execution_count": 2,
   "metadata": {
    "scrolled": false
   },
   "outputs": [
    {
     "data": {
      "text/html": [
       "<div>\n",
       "<table border=\"1\" class=\"dataframe\">\n",
       "  <thead>\n",
       "    <tr style=\"text-align: right;\">\n",
       "      <th></th>\n",
       "      <th>rate</th>\n",
       "      <th>cpu</th>\n",
       "      <th>distance</th>\n",
       "      <th>temp</th>\n",
       "      <th>voltage</th>\n",
       "      <th>screen</th>\n",
       "      <th>mobile_network</th>\n",
       "      <th>network</th>\n",
       "      <th>wifi_strength</th>\n",
       "      <th>wifi_speed</th>\n",
       "    </tr>\n",
       "  </thead>\n",
       "  <tbody>\n",
       "    <tr>\n",
       "      <th>0</th>\n",
       "      <td>0.032258</td>\n",
       "      <td>0.850000</td>\n",
       "      <td>0.0</td>\n",
       "      <td>31.0</td>\n",
       "      <td>3.0</td>\n",
       "      <td>-1</td>\n",
       "      <td>lte</td>\n",
       "      <td>wifi</td>\n",
       "      <td>-50</td>\n",
       "      <td>40</td>\n",
       "    </tr>\n",
       "    <tr>\n",
       "      <th>1</th>\n",
       "      <td>0.011111</td>\n",
       "      <td>0.617849</td>\n",
       "      <td>0.0</td>\n",
       "      <td>32.0</td>\n",
       "      <td>3.0</td>\n",
       "      <td>-1</td>\n",
       "      <td>lte</td>\n",
       "      <td>wifi</td>\n",
       "      <td>-50</td>\n",
       "      <td>40</td>\n",
       "    </tr>\n",
       "    <tr>\n",
       "      <th>2</th>\n",
       "      <td>0.011111</td>\n",
       "      <td>0.720621</td>\n",
       "      <td>0.0</td>\n",
       "      <td>32.0</td>\n",
       "      <td>3.0</td>\n",
       "      <td>-1</td>\n",
       "      <td>lte</td>\n",
       "      <td>wifi</td>\n",
       "      <td>-48</td>\n",
       "      <td>40</td>\n",
       "    </tr>\n",
       "    <tr>\n",
       "      <th>3</th>\n",
       "      <td>0.016667</td>\n",
       "      <td>0.790870</td>\n",
       "      <td>0.0</td>\n",
       "      <td>33.0</td>\n",
       "      <td>3.0</td>\n",
       "      <td>-1</td>\n",
       "      <td>lte</td>\n",
       "      <td>wifi</td>\n",
       "      <td>-52</td>\n",
       "      <td>40</td>\n",
       "    </tr>\n",
       "    <tr>\n",
       "      <th>4</th>\n",
       "      <td>0.011111</td>\n",
       "      <td>0.664297</td>\n",
       "      <td>0.0</td>\n",
       "      <td>33.0</td>\n",
       "      <td>3.0</td>\n",
       "      <td>-1</td>\n",
       "      <td>lte</td>\n",
       "      <td>wifi</td>\n",
       "      <td>-50</td>\n",
       "      <td>40</td>\n",
       "    </tr>\n",
       "    <tr>\n",
       "      <th>5</th>\n",
       "      <td>0.513089</td>\n",
       "      <td>0.299832</td>\n",
       "      <td>0.0</td>\n",
       "      <td>27.0</td>\n",
       "      <td>4.0</td>\n",
       "      <td>-1</td>\n",
       "      <td>lte</td>\n",
       "      <td>wifi</td>\n",
       "      <td>-47</td>\n",
       "      <td>13</td>\n",
       "    </tr>\n",
       "    <tr>\n",
       "      <th>6</th>\n",
       "      <td>0.008333</td>\n",
       "      <td>0.297619</td>\n",
       "      <td>0.0</td>\n",
       "      <td>28.0</td>\n",
       "      <td>4.0</td>\n",
       "      <td>-1</td>\n",
       "      <td>lte</td>\n",
       "      <td>wifi</td>\n",
       "      <td>-53</td>\n",
       "      <td>40</td>\n",
       "    </tr>\n",
       "    <tr>\n",
       "      <th>7</th>\n",
       "      <td>0.000816</td>\n",
       "      <td>0.835341</td>\n",
       "      <td>0.0</td>\n",
       "      <td>27.0</td>\n",
       "      <td>4.0</td>\n",
       "      <td>-1</td>\n",
       "      <td>lte</td>\n",
       "      <td>wifi</td>\n",
       "      <td>-54</td>\n",
       "      <td>40</td>\n",
       "    </tr>\n",
       "    <tr>\n",
       "      <th>8</th>\n",
       "      <td>0.000540</td>\n",
       "      <td>0.850427</td>\n",
       "      <td>0.0</td>\n",
       "      <td>25.0</td>\n",
       "      <td>4.0</td>\n",
       "      <td>-1</td>\n",
       "      <td>lte</td>\n",
       "      <td>wifi</td>\n",
       "      <td>-54</td>\n",
       "      <td>40</td>\n",
       "    </tr>\n",
       "    <tr>\n",
       "      <th>9</th>\n",
       "      <td>0.000834</td>\n",
       "      <td>0.370203</td>\n",
       "      <td>0.0</td>\n",
       "      <td>26.0</td>\n",
       "      <td>4.0</td>\n",
       "      <td>-1</td>\n",
       "      <td>lte</td>\n",
       "      <td>wifi</td>\n",
       "      <td>-48</td>\n",
       "      <td>40</td>\n",
       "    </tr>\n",
       "    <tr>\n",
       "      <th>10</th>\n",
       "      <td>0.005556</td>\n",
       "      <td>0.353383</td>\n",
       "      <td>0.0</td>\n",
       "      <td>28.0</td>\n",
       "      <td>4.0</td>\n",
       "      <td>-1</td>\n",
       "      <td>lte</td>\n",
       "      <td>wifi</td>\n",
       "      <td>-57</td>\n",
       "      <td>40</td>\n",
       "    </tr>\n",
       "    <tr>\n",
       "      <th>11</th>\n",
       "      <td>0.011111</td>\n",
       "      <td>0.809524</td>\n",
       "      <td>0.0</td>\n",
       "      <td>29.0</td>\n",
       "      <td>3.0</td>\n",
       "      <td>-1</td>\n",
       "      <td>lte</td>\n",
       "      <td>wifi</td>\n",
       "      <td>-51</td>\n",
       "      <td>40</td>\n",
       "    </tr>\n",
       "    <tr>\n",
       "      <th>12</th>\n",
       "      <td>0.002364</td>\n",
       "      <td>0.355169</td>\n",
       "      <td>0.0</td>\n",
       "      <td>31.0</td>\n",
       "      <td>4.0</td>\n",
       "      <td>-1</td>\n",
       "      <td>lte</td>\n",
       "      <td>wifi</td>\n",
       "      <td>-55</td>\n",
       "      <td>40</td>\n",
       "    </tr>\n",
       "    <tr>\n",
       "      <th>13</th>\n",
       "      <td>0.033333</td>\n",
       "      <td>0.465116</td>\n",
       "      <td>0.0</td>\n",
       "      <td>31.0</td>\n",
       "      <td>4.0</td>\n",
       "      <td>-1</td>\n",
       "      <td>lte</td>\n",
       "      <td>wifi</td>\n",
       "      <td>-56</td>\n",
       "      <td>40</td>\n",
       "    </tr>\n",
       "    <tr>\n",
       "      <th>14</th>\n",
       "      <td>0.011111</td>\n",
       "      <td>0.613953</td>\n",
       "      <td>0.0</td>\n",
       "      <td>31.0</td>\n",
       "      <td>4.0</td>\n",
       "      <td>-1</td>\n",
       "      <td>lte</td>\n",
       "      <td>wifi</td>\n",
       "      <td>-65</td>\n",
       "      <td>40</td>\n",
       "    </tr>\n",
       "    <tr>\n",
       "      <th>15</th>\n",
       "      <td>0.000431</td>\n",
       "      <td>0.512267</td>\n",
       "      <td>0.0</td>\n",
       "      <td>36.0</td>\n",
       "      <td>4.0</td>\n",
       "      <td>-1</td>\n",
       "      <td>lte</td>\n",
       "      <td>wifi</td>\n",
       "      <td>-57</td>\n",
       "      <td>130</td>\n",
       "    </tr>\n",
       "    <tr>\n",
       "      <th>16</th>\n",
       "      <td>0.005917</td>\n",
       "      <td>0.434343</td>\n",
       "      <td>0.0</td>\n",
       "      <td>31.0</td>\n",
       "      <td>4.0</td>\n",
       "      <td>-1</td>\n",
       "      <td>lte</td>\n",
       "      <td>wifi</td>\n",
       "      <td>-56</td>\n",
       "      <td>65</td>\n",
       "    </tr>\n",
       "    <tr>\n",
       "      <th>17</th>\n",
       "      <td>0.008333</td>\n",
       "      <td>0.502618</td>\n",
       "      <td>0.0</td>\n",
       "      <td>32.0</td>\n",
       "      <td>4.0</td>\n",
       "      <td>-1</td>\n",
       "      <td>lte</td>\n",
       "      <td>wifi</td>\n",
       "      <td>-66</td>\n",
       "      <td>78</td>\n",
       "    </tr>\n",
       "    <tr>\n",
       "      <th>18</th>\n",
       "      <td>0.002083</td>\n",
       "      <td>0.346154</td>\n",
       "      <td>0.0</td>\n",
       "      <td>32.0</td>\n",
       "      <td>4.0</td>\n",
       "      <td>-1</td>\n",
       "      <td>0</td>\n",
       "      <td>wifi</td>\n",
       "      <td>-60</td>\n",
       "      <td>104</td>\n",
       "    </tr>\n",
       "    <tr>\n",
       "      <th>19</th>\n",
       "      <td>0.002869</td>\n",
       "      <td>0.598628</td>\n",
       "      <td>0.0</td>\n",
       "      <td>32.0</td>\n",
       "      <td>3.0</td>\n",
       "      <td>-1</td>\n",
       "      <td>lte</td>\n",
       "      <td>wifi</td>\n",
       "      <td>-53</td>\n",
       "      <td>130</td>\n",
       "    </tr>\n",
       "    <tr>\n",
       "      <th>20</th>\n",
       "      <td>0.000091</td>\n",
       "      <td>0.520575</td>\n",
       "      <td>0.0</td>\n",
       "      <td>31.0</td>\n",
       "      <td>3.0</td>\n",
       "      <td>-1</td>\n",
       "      <td>lte</td>\n",
       "      <td>wifi</td>\n",
       "      <td>-54</td>\n",
       "      <td>40</td>\n",
       "    </tr>\n",
       "    <tr>\n",
       "      <th>21</th>\n",
       "      <td>0.001003</td>\n",
       "      <td>0.654342</td>\n",
       "      <td>0.0</td>\n",
       "      <td>32.0</td>\n",
       "      <td>3.0</td>\n",
       "      <td>-1</td>\n",
       "      <td>lte</td>\n",
       "      <td>mobile</td>\n",
       "      <td>-127</td>\n",
       "      <td>-1</td>\n",
       "    </tr>\n",
       "    <tr>\n",
       "      <th>22</th>\n",
       "      <td>0.002169</td>\n",
       "      <td>0.011758</td>\n",
       "      <td>0.0</td>\n",
       "      <td>35.0</td>\n",
       "      <td>3.0</td>\n",
       "      <td>-1</td>\n",
       "      <td>0</td>\n",
       "      <td>mobile</td>\n",
       "      <td>-127</td>\n",
       "      <td>-1</td>\n",
       "    </tr>\n",
       "    <tr>\n",
       "      <th>23</th>\n",
       "      <td>0.000204</td>\n",
       "      <td>0.592882</td>\n",
       "      <td>0.0</td>\n",
       "      <td>32.0</td>\n",
       "      <td>3.0</td>\n",
       "      <td>-1</td>\n",
       "      <td>lte</td>\n",
       "      <td>wifi</td>\n",
       "      <td>-69</td>\n",
       "      <td>26</td>\n",
       "    </tr>\n",
       "    <tr>\n",
       "      <th>24</th>\n",
       "      <td>0.004651</td>\n",
       "      <td>0.631893</td>\n",
       "      <td>0.0</td>\n",
       "      <td>35.0</td>\n",
       "      <td>3.0</td>\n",
       "      <td>-1</td>\n",
       "      <td>lte</td>\n",
       "      <td>wifi</td>\n",
       "      <td>-55</td>\n",
       "      <td>65</td>\n",
       "    </tr>\n",
       "    <tr>\n",
       "      <th>25</th>\n",
       "      <td>0.011111</td>\n",
       "      <td>0.731140</td>\n",
       "      <td>0.0</td>\n",
       "      <td>34.0</td>\n",
       "      <td>3.0</td>\n",
       "      <td>-1</td>\n",
       "      <td>lte</td>\n",
       "      <td>wifi</td>\n",
       "      <td>-67</td>\n",
       "      <td>52</td>\n",
       "    </tr>\n",
       "    <tr>\n",
       "      <th>26</th>\n",
       "      <td>0.011111</td>\n",
       "      <td>0.484585</td>\n",
       "      <td>0.0</td>\n",
       "      <td>34.0</td>\n",
       "      <td>3.0</td>\n",
       "      <td>-1</td>\n",
       "      <td>lte</td>\n",
       "      <td>wifi</td>\n",
       "      <td>-64</td>\n",
       "      <td>52</td>\n",
       "    </tr>\n",
       "    <tr>\n",
       "      <th>27</th>\n",
       "      <td>0.011111</td>\n",
       "      <td>0.526786</td>\n",
       "      <td>0.0</td>\n",
       "      <td>34.0</td>\n",
       "      <td>3.0</td>\n",
       "      <td>-1</td>\n",
       "      <td>lte</td>\n",
       "      <td>wifi</td>\n",
       "      <td>-72</td>\n",
       "      <td>52</td>\n",
       "    </tr>\n",
       "    <tr>\n",
       "      <th>28</th>\n",
       "      <td>0.010870</td>\n",
       "      <td>0.823129</td>\n",
       "      <td>0.0</td>\n",
       "      <td>35.0</td>\n",
       "      <td>3.0</td>\n",
       "      <td>-1</td>\n",
       "      <td>lte</td>\n",
       "      <td>wifi</td>\n",
       "      <td>-72</td>\n",
       "      <td>58</td>\n",
       "    </tr>\n",
       "    <tr>\n",
       "      <th>29</th>\n",
       "      <td>0.011236</td>\n",
       "      <td>0.634304</td>\n",
       "      <td>0.0</td>\n",
       "      <td>35.0</td>\n",
       "      <td>3.0</td>\n",
       "      <td>-1</td>\n",
       "      <td>lte</td>\n",
       "      <td>wifi</td>\n",
       "      <td>-67</td>\n",
       "      <td>52</td>\n",
       "    </tr>\n",
       "    <tr>\n",
       "      <th>...</th>\n",
       "      <td>...</td>\n",
       "      <td>...</td>\n",
       "      <td>...</td>\n",
       "      <td>...</td>\n",
       "      <td>...</td>\n",
       "      <td>...</td>\n",
       "      <td>...</td>\n",
       "      <td>...</td>\n",
       "      <td>...</td>\n",
       "      <td>...</td>\n",
       "    </tr>\n",
       "    <tr>\n",
       "      <th>908940</th>\n",
       "      <td>0.000549</td>\n",
       "      <td>0.932039</td>\n",
       "      <td>0.0</td>\n",
       "      <td>39.0</td>\n",
       "      <td>3.0</td>\n",
       "      <td>-1</td>\n",
       "      <td>1xrtt</td>\n",
       "      <td>mobile</td>\n",
       "      <td>-127</td>\n",
       "      <td>-1</td>\n",
       "    </tr>\n",
       "    <tr>\n",
       "      <th>908941</th>\n",
       "      <td>0.058824</td>\n",
       "      <td>0.963918</td>\n",
       "      <td>0.0</td>\n",
       "      <td>40.0</td>\n",
       "      <td>3.0</td>\n",
       "      <td>-1</td>\n",
       "      <td>1xrtt</td>\n",
       "      <td>mobile</td>\n",
       "      <td>-127</td>\n",
       "      <td>-1</td>\n",
       "    </tr>\n",
       "    <tr>\n",
       "      <th>908942</th>\n",
       "      <td>0.002281</td>\n",
       "      <td>0.717172</td>\n",
       "      <td>0.0</td>\n",
       "      <td>29.0</td>\n",
       "      <td>3.0</td>\n",
       "      <td>-1</td>\n",
       "      <td>1xrtt</td>\n",
       "      <td>mobile</td>\n",
       "      <td>-127</td>\n",
       "      <td>-1</td>\n",
       "    </tr>\n",
       "    <tr>\n",
       "      <th>908943</th>\n",
       "      <td>0.014388</td>\n",
       "      <td>0.534591</td>\n",
       "      <td>0.0</td>\n",
       "      <td>32.0</td>\n",
       "      <td>3.0</td>\n",
       "      <td>-1</td>\n",
       "      <td>1xrtt</td>\n",
       "      <td>mobile</td>\n",
       "      <td>-127</td>\n",
       "      <td>-1</td>\n",
       "    </tr>\n",
       "    <tr>\n",
       "      <th>908944</th>\n",
       "      <td>0.009174</td>\n",
       "      <td>0.676647</td>\n",
       "      <td>0.0</td>\n",
       "      <td>33.0</td>\n",
       "      <td>3.0</td>\n",
       "      <td>-1</td>\n",
       "      <td>1xrtt</td>\n",
       "      <td>mobile</td>\n",
       "      <td>-127</td>\n",
       "      <td>-1</td>\n",
       "    </tr>\n",
       "    <tr>\n",
       "      <th>908945</th>\n",
       "      <td>0.008197</td>\n",
       "      <td>0.945455</td>\n",
       "      <td>0.0</td>\n",
       "      <td>34.0</td>\n",
       "      <td>3.0</td>\n",
       "      <td>-1</td>\n",
       "      <td>1xrtt</td>\n",
       "      <td>mobile</td>\n",
       "      <td>-127</td>\n",
       "      <td>-1</td>\n",
       "    </tr>\n",
       "    <tr>\n",
       "      <th>908946</th>\n",
       "      <td>0.008130</td>\n",
       "      <td>0.464286</td>\n",
       "      <td>0.0</td>\n",
       "      <td>36.0</td>\n",
       "      <td>3.0</td>\n",
       "      <td>-1</td>\n",
       "      <td>1xrtt</td>\n",
       "      <td>mobile</td>\n",
       "      <td>-127</td>\n",
       "      <td>-1</td>\n",
       "    </tr>\n",
       "    <tr>\n",
       "      <th>908947</th>\n",
       "      <td>0.000873</td>\n",
       "      <td>0.918406</td>\n",
       "      <td>0.0</td>\n",
       "      <td>30.0</td>\n",
       "      <td>3.0</td>\n",
       "      <td>-1</td>\n",
       "      <td>1xrtt</td>\n",
       "      <td>mobile</td>\n",
       "      <td>-127</td>\n",
       "      <td>-1</td>\n",
       "    </tr>\n",
       "    <tr>\n",
       "      <th>908948</th>\n",
       "      <td>0.010101</td>\n",
       "      <td>0.578947</td>\n",
       "      <td>0.0</td>\n",
       "      <td>35.0</td>\n",
       "      <td>3.0</td>\n",
       "      <td>-1</td>\n",
       "      <td>lte</td>\n",
       "      <td>mobile</td>\n",
       "      <td>-127</td>\n",
       "      <td>-1</td>\n",
       "    </tr>\n",
       "    <tr>\n",
       "      <th>908949</th>\n",
       "      <td>0.008197</td>\n",
       "      <td>0.222222</td>\n",
       "      <td>0.0</td>\n",
       "      <td>35.0</td>\n",
       "      <td>3.0</td>\n",
       "      <td>-1</td>\n",
       "      <td>lte</td>\n",
       "      <td>mobile</td>\n",
       "      <td>-127</td>\n",
       "      <td>-1</td>\n",
       "    </tr>\n",
       "    <tr>\n",
       "      <th>908950</th>\n",
       "      <td>0.002381</td>\n",
       "      <td>0.599364</td>\n",
       "      <td>0.0</td>\n",
       "      <td>32.0</td>\n",
       "      <td>3.0</td>\n",
       "      <td>-1</td>\n",
       "      <td>lte</td>\n",
       "      <td>mobile</td>\n",
       "      <td>-127</td>\n",
       "      <td>-1</td>\n",
       "    </tr>\n",
       "    <tr>\n",
       "      <th>908951</th>\n",
       "      <td>0.001108</td>\n",
       "      <td>0.819149</td>\n",
       "      <td>0.0</td>\n",
       "      <td>23.0</td>\n",
       "      <td>4.0</td>\n",
       "      <td>-1</td>\n",
       "      <td>lte</td>\n",
       "      <td>wifi</td>\n",
       "      <td>-52</td>\n",
       "      <td>585</td>\n",
       "    </tr>\n",
       "    <tr>\n",
       "      <th>908952</th>\n",
       "      <td>0.003436</td>\n",
       "      <td>0.677807</td>\n",
       "      <td>0.0</td>\n",
       "      <td>37.0</td>\n",
       "      <td>3.0</td>\n",
       "      <td>-1</td>\n",
       "      <td>lte</td>\n",
       "      <td>mobile</td>\n",
       "      <td>-127</td>\n",
       "      <td>-1</td>\n",
       "    </tr>\n",
       "    <tr>\n",
       "      <th>908953</th>\n",
       "      <td>0.007692</td>\n",
       "      <td>0.575540</td>\n",
       "      <td>0.0</td>\n",
       "      <td>38.0</td>\n",
       "      <td>3.0</td>\n",
       "      <td>-1</td>\n",
       "      <td>lte</td>\n",
       "      <td>mobile</td>\n",
       "      <td>-127</td>\n",
       "      <td>-1</td>\n",
       "    </tr>\n",
       "    <tr>\n",
       "      <th>908954</th>\n",
       "      <td>0.002688</td>\n",
       "      <td>0.520245</td>\n",
       "      <td>0.0</td>\n",
       "      <td>35.0</td>\n",
       "      <td>3.0</td>\n",
       "      <td>-1</td>\n",
       "      <td>hspa</td>\n",
       "      <td>mobile</td>\n",
       "      <td>-127</td>\n",
       "      <td>-1</td>\n",
       "    </tr>\n",
       "    <tr>\n",
       "      <th>908955</th>\n",
       "      <td>0.001555</td>\n",
       "      <td>0.792793</td>\n",
       "      <td>0.0</td>\n",
       "      <td>26.0</td>\n",
       "      <td>4.0</td>\n",
       "      <td>-1</td>\n",
       "      <td>lte</td>\n",
       "      <td>wifi</td>\n",
       "      <td>-51</td>\n",
       "      <td>292</td>\n",
       "    </tr>\n",
       "    <tr>\n",
       "      <th>908956</th>\n",
       "      <td>0.000727</td>\n",
       "      <td>0.511475</td>\n",
       "      <td>0.0</td>\n",
       "      <td>35.0</td>\n",
       "      <td>3.0</td>\n",
       "      <td>-1</td>\n",
       "      <td>lte</td>\n",
       "      <td>wifi</td>\n",
       "      <td>-60</td>\n",
       "      <td>300</td>\n",
       "    </tr>\n",
       "    <tr>\n",
       "      <th>908957</th>\n",
       "      <td>0.014286</td>\n",
       "      <td>0.576923</td>\n",
       "      <td>0.0</td>\n",
       "      <td>36.0</td>\n",
       "      <td>3.0</td>\n",
       "      <td>-1</td>\n",
       "      <td>lte</td>\n",
       "      <td>wifi</td>\n",
       "      <td>-55</td>\n",
       "      <td>300</td>\n",
       "    </tr>\n",
       "    <tr>\n",
       "      <th>908958</th>\n",
       "      <td>0.005263</td>\n",
       "      <td>0.808761</td>\n",
       "      <td>0.0</td>\n",
       "      <td>38.0</td>\n",
       "      <td>3.0</td>\n",
       "      <td>-1</td>\n",
       "      <td>lte</td>\n",
       "      <td>wifi</td>\n",
       "      <td>-55</td>\n",
       "      <td>300</td>\n",
       "    </tr>\n",
       "    <tr>\n",
       "      <th>908959</th>\n",
       "      <td>0.005525</td>\n",
       "      <td>0.891821</td>\n",
       "      <td>0.0</td>\n",
       "      <td>39.0</td>\n",
       "      <td>3.0</td>\n",
       "      <td>-1</td>\n",
       "      <td>lte</td>\n",
       "      <td>wifi</td>\n",
       "      <td>-55</td>\n",
       "      <td>300</td>\n",
       "    </tr>\n",
       "    <tr>\n",
       "      <th>908960</th>\n",
       "      <td>0.006849</td>\n",
       "      <td>0.996663</td>\n",
       "      <td>0.0</td>\n",
       "      <td>35.0</td>\n",
       "      <td>3.0</td>\n",
       "      <td>-1</td>\n",
       "      <td>lte</td>\n",
       "      <td>mobile</td>\n",
       "      <td>-127</td>\n",
       "      <td>-1</td>\n",
       "    </tr>\n",
       "    <tr>\n",
       "      <th>908961</th>\n",
       "      <td>0.010000</td>\n",
       "      <td>0.925000</td>\n",
       "      <td>0.0</td>\n",
       "      <td>36.0</td>\n",
       "      <td>3.0</td>\n",
       "      <td>-1</td>\n",
       "      <td>lte</td>\n",
       "      <td>mobile</td>\n",
       "      <td>-127</td>\n",
       "      <td>-1</td>\n",
       "    </tr>\n",
       "    <tr>\n",
       "      <th>908962</th>\n",
       "      <td>0.009434</td>\n",
       "      <td>0.986301</td>\n",
       "      <td>0.0</td>\n",
       "      <td>37.0</td>\n",
       "      <td>3.0</td>\n",
       "      <td>-1</td>\n",
       "      <td>lte</td>\n",
       "      <td>mobile</td>\n",
       "      <td>-76</td>\n",
       "      <td>130</td>\n",
       "    </tr>\n",
       "    <tr>\n",
       "      <th>908963</th>\n",
       "      <td>0.006098</td>\n",
       "      <td>0.791681</td>\n",
       "      <td>0.0</td>\n",
       "      <td>38.0</td>\n",
       "      <td>3.0</td>\n",
       "      <td>-1</td>\n",
       "      <td>lte</td>\n",
       "      <td>wifi</td>\n",
       "      <td>-67</td>\n",
       "      <td>78</td>\n",
       "    </tr>\n",
       "    <tr>\n",
       "      <th>908964</th>\n",
       "      <td>0.005376</td>\n",
       "      <td>0.967164</td>\n",
       "      <td>0.0</td>\n",
       "      <td>39.0</td>\n",
       "      <td>3.0</td>\n",
       "      <td>-1</td>\n",
       "      <td>lte</td>\n",
       "      <td>wifi</td>\n",
       "      <td>-67</td>\n",
       "      <td>78</td>\n",
       "    </tr>\n",
       "    <tr>\n",
       "      <th>908965</th>\n",
       "      <td>0.005000</td>\n",
       "      <td>0.768065</td>\n",
       "      <td>0.0</td>\n",
       "      <td>39.0</td>\n",
       "      <td>3.0</td>\n",
       "      <td>-1</td>\n",
       "      <td>lte</td>\n",
       "      <td>wifi</td>\n",
       "      <td>-67</td>\n",
       "      <td>78</td>\n",
       "    </tr>\n",
       "    <tr>\n",
       "      <th>908966</th>\n",
       "      <td>0.034483</td>\n",
       "      <td>0.448133</td>\n",
       "      <td>0.0</td>\n",
       "      <td>36.0</td>\n",
       "      <td>3.0</td>\n",
       "      <td>-1</td>\n",
       "      <td>lte</td>\n",
       "      <td>wifi</td>\n",
       "      <td>-53</td>\n",
       "      <td>526</td>\n",
       "    </tr>\n",
       "    <tr>\n",
       "      <th>908967</th>\n",
       "      <td>0.003236</td>\n",
       "      <td>0.653873</td>\n",
       "      <td>0.0</td>\n",
       "      <td>38.0</td>\n",
       "      <td>3.0</td>\n",
       "      <td>-1</td>\n",
       "      <td>lte</td>\n",
       "      <td>wifi</td>\n",
       "      <td>-73</td>\n",
       "      <td>117</td>\n",
       "    </tr>\n",
       "    <tr>\n",
       "      <th>908968</th>\n",
       "      <td>0.004808</td>\n",
       "      <td>0.744346</td>\n",
       "      <td>0.0</td>\n",
       "      <td>37.0</td>\n",
       "      <td>3.0</td>\n",
       "      <td>-1</td>\n",
       "      <td>lte</td>\n",
       "      <td>mobile</td>\n",
       "      <td>-127</td>\n",
       "      <td>-1</td>\n",
       "    </tr>\n",
       "    <tr>\n",
       "      <th>908969</th>\n",
       "      <td>0.008197</td>\n",
       "      <td>0.987097</td>\n",
       "      <td>0.0</td>\n",
       "      <td>39.0</td>\n",
       "      <td>3.0</td>\n",
       "      <td>-1</td>\n",
       "      <td>lte</td>\n",
       "      <td>mobile</td>\n",
       "      <td>-127</td>\n",
       "      <td>-1</td>\n",
       "    </tr>\n",
       "  </tbody>\n",
       "</table>\n",
       "<p>908970 rows × 10 columns</p>\n",
       "</div>"
      ],
      "text/plain": [
       "            rate       cpu  distance  temp  voltage  screen mobile_network  \\\n",
       "0       0.032258  0.850000       0.0  31.0      3.0      -1            lte   \n",
       "1       0.011111  0.617849       0.0  32.0      3.0      -1            lte   \n",
       "2       0.011111  0.720621       0.0  32.0      3.0      -1            lte   \n",
       "3       0.016667  0.790870       0.0  33.0      3.0      -1            lte   \n",
       "4       0.011111  0.664297       0.0  33.0      3.0      -1            lte   \n",
       "5       0.513089  0.299832       0.0  27.0      4.0      -1            lte   \n",
       "6       0.008333  0.297619       0.0  28.0      4.0      -1            lte   \n",
       "7       0.000816  0.835341       0.0  27.0      4.0      -1            lte   \n",
       "8       0.000540  0.850427       0.0  25.0      4.0      -1            lte   \n",
       "9       0.000834  0.370203       0.0  26.0      4.0      -1            lte   \n",
       "10      0.005556  0.353383       0.0  28.0      4.0      -1            lte   \n",
       "11      0.011111  0.809524       0.0  29.0      3.0      -1            lte   \n",
       "12      0.002364  0.355169       0.0  31.0      4.0      -1            lte   \n",
       "13      0.033333  0.465116       0.0  31.0      4.0      -1            lte   \n",
       "14      0.011111  0.613953       0.0  31.0      4.0      -1            lte   \n",
       "15      0.000431  0.512267       0.0  36.0      4.0      -1            lte   \n",
       "16      0.005917  0.434343       0.0  31.0      4.0      -1            lte   \n",
       "17      0.008333  0.502618       0.0  32.0      4.0      -1            lte   \n",
       "18      0.002083  0.346154       0.0  32.0      4.0      -1              0   \n",
       "19      0.002869  0.598628       0.0  32.0      3.0      -1            lte   \n",
       "20      0.000091  0.520575       0.0  31.0      3.0      -1            lte   \n",
       "21      0.001003  0.654342       0.0  32.0      3.0      -1            lte   \n",
       "22      0.002169  0.011758       0.0  35.0      3.0      -1              0   \n",
       "23      0.000204  0.592882       0.0  32.0      3.0      -1            lte   \n",
       "24      0.004651  0.631893       0.0  35.0      3.0      -1            lte   \n",
       "25      0.011111  0.731140       0.0  34.0      3.0      -1            lte   \n",
       "26      0.011111  0.484585       0.0  34.0      3.0      -1            lte   \n",
       "27      0.011111  0.526786       0.0  34.0      3.0      -1            lte   \n",
       "28      0.010870  0.823129       0.0  35.0      3.0      -1            lte   \n",
       "29      0.011236  0.634304       0.0  35.0      3.0      -1            lte   \n",
       "...          ...       ...       ...   ...      ...     ...            ...   \n",
       "908940  0.000549  0.932039       0.0  39.0      3.0      -1          1xrtt   \n",
       "908941  0.058824  0.963918       0.0  40.0      3.0      -1          1xrtt   \n",
       "908942  0.002281  0.717172       0.0  29.0      3.0      -1          1xrtt   \n",
       "908943  0.014388  0.534591       0.0  32.0      3.0      -1          1xrtt   \n",
       "908944  0.009174  0.676647       0.0  33.0      3.0      -1          1xrtt   \n",
       "908945  0.008197  0.945455       0.0  34.0      3.0      -1          1xrtt   \n",
       "908946  0.008130  0.464286       0.0  36.0      3.0      -1          1xrtt   \n",
       "908947  0.000873  0.918406       0.0  30.0      3.0      -1          1xrtt   \n",
       "908948  0.010101  0.578947       0.0  35.0      3.0      -1            lte   \n",
       "908949  0.008197  0.222222       0.0  35.0      3.0      -1            lte   \n",
       "908950  0.002381  0.599364       0.0  32.0      3.0      -1            lte   \n",
       "908951  0.001108  0.819149       0.0  23.0      4.0      -1            lte   \n",
       "908952  0.003436  0.677807       0.0  37.0      3.0      -1            lte   \n",
       "908953  0.007692  0.575540       0.0  38.0      3.0      -1            lte   \n",
       "908954  0.002688  0.520245       0.0  35.0      3.0      -1           hspa   \n",
       "908955  0.001555  0.792793       0.0  26.0      4.0      -1            lte   \n",
       "908956  0.000727  0.511475       0.0  35.0      3.0      -1            lte   \n",
       "908957  0.014286  0.576923       0.0  36.0      3.0      -1            lte   \n",
       "908958  0.005263  0.808761       0.0  38.0      3.0      -1            lte   \n",
       "908959  0.005525  0.891821       0.0  39.0      3.0      -1            lte   \n",
       "908960  0.006849  0.996663       0.0  35.0      3.0      -1            lte   \n",
       "908961  0.010000  0.925000       0.0  36.0      3.0      -1            lte   \n",
       "908962  0.009434  0.986301       0.0  37.0      3.0      -1            lte   \n",
       "908963  0.006098  0.791681       0.0  38.0      3.0      -1            lte   \n",
       "908964  0.005376  0.967164       0.0  39.0      3.0      -1            lte   \n",
       "908965  0.005000  0.768065       0.0  39.0      3.0      -1            lte   \n",
       "908966  0.034483  0.448133       0.0  36.0      3.0      -1            lte   \n",
       "908967  0.003236  0.653873       0.0  38.0      3.0      -1            lte   \n",
       "908968  0.004808  0.744346       0.0  37.0      3.0      -1            lte   \n",
       "908969  0.008197  0.987097       0.0  39.0      3.0      -1            lte   \n",
       "\n",
       "       network  wifi_strength  wifi_speed  \n",
       "0         wifi            -50          40  \n",
       "1         wifi            -50          40  \n",
       "2         wifi            -48          40  \n",
       "3         wifi            -52          40  \n",
       "4         wifi            -50          40  \n",
       "5         wifi            -47          13  \n",
       "6         wifi            -53          40  \n",
       "7         wifi            -54          40  \n",
       "8         wifi            -54          40  \n",
       "9         wifi            -48          40  \n",
       "10        wifi            -57          40  \n",
       "11        wifi            -51          40  \n",
       "12        wifi            -55          40  \n",
       "13        wifi            -56          40  \n",
       "14        wifi            -65          40  \n",
       "15        wifi            -57         130  \n",
       "16        wifi            -56          65  \n",
       "17        wifi            -66          78  \n",
       "18        wifi            -60         104  \n",
       "19        wifi            -53         130  \n",
       "20        wifi            -54          40  \n",
       "21      mobile           -127          -1  \n",
       "22      mobile           -127          -1  \n",
       "23        wifi            -69          26  \n",
       "24        wifi            -55          65  \n",
       "25        wifi            -67          52  \n",
       "26        wifi            -64          52  \n",
       "27        wifi            -72          52  \n",
       "28        wifi            -72          58  \n",
       "29        wifi            -67          52  \n",
       "...        ...            ...         ...  \n",
       "908940  mobile           -127          -1  \n",
       "908941  mobile           -127          -1  \n",
       "908942  mobile           -127          -1  \n",
       "908943  mobile           -127          -1  \n",
       "908944  mobile           -127          -1  \n",
       "908945  mobile           -127          -1  \n",
       "908946  mobile           -127          -1  \n",
       "908947  mobile           -127          -1  \n",
       "908948  mobile           -127          -1  \n",
       "908949  mobile           -127          -1  \n",
       "908950  mobile           -127          -1  \n",
       "908951    wifi            -52         585  \n",
       "908952  mobile           -127          -1  \n",
       "908953  mobile           -127          -1  \n",
       "908954  mobile           -127          -1  \n",
       "908955    wifi            -51         292  \n",
       "908956    wifi            -60         300  \n",
       "908957    wifi            -55         300  \n",
       "908958    wifi            -55         300  \n",
       "908959    wifi            -55         300  \n",
       "908960  mobile           -127          -1  \n",
       "908961  mobile           -127          -1  \n",
       "908962  mobile            -76         130  \n",
       "908963    wifi            -67          78  \n",
       "908964    wifi            -67          78  \n",
       "908965    wifi            -67          78  \n",
       "908966    wifi            -53         526  \n",
       "908967    wifi            -73         117  \n",
       "908968  mobile           -127          -1  \n",
       "908969  mobile           -127          -1  \n",
       "\n",
       "[908970 rows x 10 columns]"
      ]
     },
     "execution_count": 2,
     "metadata": {},
     "output_type": "execute_result"
    }
   ],
   "source": [
    "\"\"\"\n",
    "Visualization for a small subset of Carat data containing system settings of Facebook mobile app users.\n",
    "\n",
    "Author: Jiri Hamberg (jiri.hamberg@cs.helsinki.fi)\n",
    "\"\"\"\n",
    "\n",
    "import numpy as np\n",
    "import pandas\n",
    "\n",
    "fb_data_path = \"/mnt/cs/home/Projects/carat-test/singlesamples-from-2016-08-26-to-2016-10-03-facebook-and-features-text-discharge-noinfs.csv\"\n",
    "\n",
    "column_names = (\n",
    "    'rate',\n",
    "    'cpu',\n",
    "    'distance',\n",
    "    'temp',\n",
    "    'voltage',\n",
    "    'screen',\n",
    "    'mobile_network',\n",
    "    'network',\n",
    "    'wifi_strength',\n",
    "    'wifi_speed'\n",
    ")\n",
    "\n",
    "fb_data = pandas.read_csv(fb_data_path, sep=';', header = None, names = column_names)\n",
    "\n",
    "fb_data"
   ]
  },
  {
   "cell_type": "code",
   "execution_count": 3,
   "metadata": {},
   "outputs": [],
   "source": [
    "import scipy.stats as stats\n",
    "from scipy.stats.kde import gaussian_kde\n",
    "import matplotlib\n",
    "import matplotlib.pyplot as plt\n",
    "\n",
    "%matplotlib inline\n",
    "plt.rcParams[\"figure.figsize\"] = [10, 5]"
   ]
  },
  {
   "cell_type": "markdown",
   "metadata": {},
   "source": [
    "# Energy Rate Distribution"
   ]
  },
  {
   "cell_type": "code",
   "execution_count": 4,
   "metadata": {
    "scrolled": true
   },
   "outputs": [
    {
     "data": {
      "text/plain": [
       "DescribeResult(nobs=908970, minmax=(0.0, 98.0), mean=0.066970800499063204, variance=1.5753162853440879, skewness=51.907055374125264, kurtosis=3347.7442607488565)"
      ]
     },
     "execution_count": 4,
     "metadata": {},
     "output_type": "execute_result"
    }
   ],
   "source": [
    "stats.describe(fb_data['rate'])"
   ]
  },
  {
   "cell_type": "code",
   "execution_count": 5,
   "metadata": {},
   "outputs": [
    {
     "data": {
      "text/plain": [
       "array([ 0.00112486,  0.00383142,  0.00826446,  0.01666667,  0.04166667])"
      ]
     },
     "execution_count": 5,
     "metadata": {},
     "output_type": "execute_result"
    }
   ],
   "source": [
    "np.percentile(fb_data['rate'], [25.0, 50.0, 75.0, 90.0, 95.0])"
   ]
  },
  {
   "cell_type": "code",
   "execution_count": 6,
   "metadata": {
    "scrolled": true
   },
   "outputs": [
    {
     "data": {
      "image/png": "[encoded data removed]",
      "text/plain": [
       "<matplotlib.figure.Figure at 0x7fe95d6bc1d0>"
      ]
     },
     "metadata": {},
     "output_type": "display_data"
    }
   ],
   "source": [
    "fig, ax = plt.subplots()\n",
    "n, bins, patches = ax.hist(fb_data['rate'], 75, normed=False, range=[0.0, 0.05], color='green')\n",
    "ax.set_xlabel('Energy Rate')\n",
    "ax.set_ylabel('Number of Samples')\n",
    "fig.tight_layout()\n",
    "plt.show()"
   ]
  },
  {
   "cell_type": "code",
   "execution_count": 7,
   "metadata": {},
   "outputs": [
    {
     "data": {
      "image/png": "[encoded data removed]",
      "text/plain": [
       "<matplotlib.figure.Figure at 0x7fe95d65fe10>"
      ]
     },
     "metadata": {},
     "output_type": "display_data"
    }
   ],
   "source": [
    "fig, ax = plt.subplots()\n",
    "n, bins, patches = ax.hist(fb_data['rate'], 75, normed=False, range=[-0.0, 1.0], color='green')\n",
    "ax.set_xlabel('Energy Rate')\n",
    "ax.set_ylabel('Number of Samples')\n",
    "fig.tight_layout()\n",
    "plt.show()"
   ]
  },
  {
   "cell_type": "markdown",
   "metadata": {},
   "source": [
    "# CPU Level Distribution"
   ]
  },
  {
   "cell_type": "code",
   "execution_count": 8,
   "metadata": {},
   "outputs": [
    {
     "data": {
      "text/plain": [
       "DescribeResult(nobs=908970, minmax=(-448.0, 234.5), mean=0.5932329225542029, variance=0.73343044554079539, skewness=-231.38479306725353, kurtosis=123190.09921407513)"
      ]
     },
     "execution_count": 8,
     "metadata": {},
     "output_type": "execute_result"
    }
   ],
   "source": [
    "stats.describe(fb_data['cpu'])"
   ]
  },
  {
   "cell_type": "code",
   "execution_count": 9,
   "metadata": {
    "scrolled": true
   },
   "outputs": [
    {
     "data": {
      "text/plain": [
       "array([ 0.38461538,  0.62169312,  0.84615385,  0.98395722,  1.        ])"
      ]
     },
     "execution_count": 9,
     "metadata": {},
     "output_type": "execute_result"
    }
   ],
   "source": [
    "np.percentile(fb_data['cpu'],  [25.0, 50.0, 75.0, 90.0, 95.0])"
   ]
  },
  {
   "cell_type": "code",
   "execution_count": 10,
   "metadata": {},
   "outputs": [
    {
     "data": {
      "image/png": "[encoded data removed]",
      "text/plain": [
       "<matplotlib.figure.Figure at 0x7fe95b4daad0>"
      ]
     },
     "metadata": {},
     "output_type": "display_data"
    }
   ],
   "source": [
    "fig, ax = plt.subplots()\n",
    "n, bins, patches = ax.hist(fb_data['cpu'], 75, normed=False, range=[0, 1.0], color='green')\n",
    "ax.set_xlabel('CPU Level')\n",
    "ax.set_ylabel('Number of Samples')\n",
    "fig.tight_layout()\n",
    "plt.show()"
   ]
  },
  {
   "cell_type": "markdown",
   "metadata": {},
   "source": [
    "# Travel Distance Distribution"
   ]
  },
  {
   "cell_type": "code",
   "execution_count": 11,
   "metadata": {
    "scrolled": true
   },
   "outputs": [
    {
     "data": {
      "text/plain": [
       "DescribeResult(nobs=908970, minmax=(0.0, 14277378.0), mean=2767.5080453444666, variance=20625813654.384895, skewness=66.75916420504451, kurtosis=4559.8426722696095)"
      ]
     },
     "execution_count": 11,
     "metadata": {},
     "output_type": "execute_result"
    }
   ],
   "source": [
    "stats.describe(fb_data['distance'])"
   ]
  },
  {
   "cell_type": "code",
   "execution_count": 12,
   "metadata": {},
   "outputs": [
    {
     "data": {
      "text/plain": [
       "array([      0.        ,       0.        ,       0.        ,\n",
       "             0.        ,    2006.5020752 ,    9742.71743164,\n",
       "        105767.4765625 ])"
      ]
     },
     "execution_count": 12,
     "metadata": {},
     "output_type": "execute_result"
    }
   ],
   "source": [
    "np.percentile(fb_data['distance'],  [25.0, 50.0, 75.0, 90.0, 95.0, 99.0, 99.9])"
   ]
  },
  {
   "cell_type": "code",
   "execution_count": 13,
   "metadata": {},
   "outputs": [
    {
     "data": {
      "image/png": "[encoded data removed]",
      "text/plain": [
       "<matplotlib.figure.Figure at 0x7fe95af2d610>"
      ]
     },
     "metadata": {},
     "output_type": "display_data"
    }
   ],
   "source": [
    "fig, ax = plt.subplots()\n",
    "n, bins, patches = ax.hist(fb_data['distance'], 75, normed=False, range=[0, 1.0e4], color='green')\n",
    "ax.set_xlabel('Travel Distance')\n",
    "ax.set_ylabel('Number of Samples')\n",
    "fig.tight_layout()\n",
    "plt.show()"
   ]
  },
  {
   "cell_type": "markdown",
   "metadata": {},
   "source": [
    "# Temperature Distribution"
   ]
  },
  {
   "cell_type": "code",
   "execution_count": 14,
   "metadata": {},
   "outputs": [
    {
     "data": {
      "text/plain": [
       "DescribeResult(nobs=908970, minmax=(-30.0, 71.0), mean=30.648997216629812, variance=32.67211666290374, skewness=-1.0613717967323675, kurtosis=6.038878910478669)"
      ]
     },
     "execution_count": 14,
     "metadata": {},
     "output_type": "execute_result"
    }
   ],
   "source": [
    "stats.describe(fb_data['temp'])"
   ]
  },
  {
   "cell_type": "code",
   "execution_count": 15,
   "metadata": {},
   "outputs": [
    {
     "data": {
      "text/plain": [
       "array([-11.,   0.,  23.,  27.,  31.,  34.,  37.,  39.])"
      ]
     },
     "execution_count": 15,
     "metadata": {},
     "output_type": "execute_result"
    }
   ],
   "source": [
    "np.percentile(fb_data['temp'],  [0.01, 0.05, 5.0, 25.0, 50.0, 75.0, 90.0, 95.0])"
   ]
  },
  {
   "cell_type": "code",
   "execution_count": 16,
   "metadata": {
    "scrolled": true
   },
   "outputs": [
    {
     "data": {
      "image/png": "[encoded data removed]",
      "text/plain": [
       "<matplotlib.figure.Figure at 0x7fe95aebaf50>"
      ]
     },
     "metadata": {},
     "output_type": "display_data"
    }
   ],
   "source": [
    "fig, ax = plt.subplots()\n",
    "n, bins, patches = ax.hist(fb_data['temp'], 75, normed=False, range=[-10, 50], color='green')\n",
    "ax.set_xlabel('Battery Temperature')\n",
    "ax.set_ylabel('Number of Samples')\n",
    "fig.tight_layout()\n",
    "plt.show()"
   ]
  },
  {
   "cell_type": "markdown",
   "metadata": {},
   "source": [
    "# Voltage Distribution"
   ]
  },
  {
   "cell_type": "code",
   "execution_count": 17,
   "metadata": {},
   "outputs": [
    {
     "data": {
      "text/plain": [
       "DescribeResult(nobs=908970, minmax=(0.0, 12.0), mean=3.3073438254287821, variance=0.3680997564518374, skewness=-0.126241839236835, kurtosis=21.58019102222318)"
      ]
     },
     "execution_count": 17,
     "metadata": {},
     "output_type": "execute_result"
    }
   ],
   "source": [
    "stats.describe(fb_data['voltage'])"
   ]
  },
  {
   "cell_type": "code",
   "execution_count": 18,
   "metadata": {},
   "outputs": [
    {
     "data": {
      "text/plain": [
       "array([ 3.,  3.,  3.,  4.,  4.,  4.])"
      ]
     },
     "execution_count": 18,
     "metadata": {},
     "output_type": "execute_result"
    }
   ],
   "source": [
    "np.percentile(fb_data['voltage'],  [5.0, 25.0, 50.0, 75.0, 90.0, 95.0])"
   ]
  },
  {
   "cell_type": "code",
   "execution_count": 19,
   "metadata": {},
   "outputs": [
    {
     "data": {
      "image/png": "[encoded data removed]",
      "text/plain": [
       "<matplotlib.figure.Figure at 0x7fe95b1dda10>"
      ]
     },
     "metadata": {},
     "output_type": "display_data"
    }
   ],
   "source": [
    "fig, ax = plt.subplots()\n",
    "n, bins, patches = ax.hist(fb_data['voltage'], 75, normed=False, range=[2, 5], color='green')\n",
    "ax.set_xlabel('Voltage')\n",
    "ax.set_ylabel('Number of Samples')\n",
    "fig.tight_layout()\n",
    "plt.show()"
   ]
  },
  {
   "cell_type": "code",
   "execution_count": 20,
   "metadata": {},
   "outputs": [
    {
     "data": {
      "image/png": "[encoded data removed]",
      "text/plain": [
       "<matplotlib.figure.Figure at 0x7fe95b489e50>"
      ]
     },
     "metadata": {},
     "output_type": "display_data"
    }
   ],
   "source": [
    "fig, ax = plt.subplots()\n",
    "n, bins, patches = ax.hist(fb_data['voltage'], 75, normed=False, range=[2.99, 3.01], color='green')\n",
    "ax.set_xlabel('Voltage')\n",
    "ax.set_ylabel('Number of Samples')\n",
    "fig.tight_layout()\n",
    "plt.show()"
   ]
  },
  {
   "cell_type": "markdown",
   "metadata": {},
   "source": [
    "# Screen Brightness Distribution"
   ]
  },
  {
   "cell_type": "code",
   "execution_count": 21,
   "metadata": {},
   "outputs": [
    {
     "data": {
      "text/plain": [
       "DescribeResult(nobs=908970, minmax=(-1, 255), mean=54.557015083006043, variance=6870.5600957715005, skewness=1.3257031240436679, kurtosis=0.39640180582041884)"
      ]
     },
     "execution_count": 21,
     "metadata": {},
     "output_type": "execute_result"
    }
   ],
   "source": [
    "stats.describe(fb_data['screen'])"
   ]
  },
  {
   "cell_type": "code",
   "execution_count": 22,
   "metadata": {},
   "outputs": [
    {
     "data": {
      "text/plain": [
       "array([  -1.,   -1.,  100.,  206.,  255.])"
      ]
     },
     "execution_count": 22,
     "metadata": {},
     "output_type": "execute_result"
    }
   ],
   "source": [
    "np.percentile(fb_data['screen'],  [25.0, 50.0, 75.0, 90.0, 95.0])"
   ]
  },
  {
   "cell_type": "code",
   "execution_count": 23,
   "metadata": {},
   "outputs": [
    {
     "data": {
      "image/png": "[encoded data removed]",
      "text/plain": [
       "<matplotlib.figure.Figure at 0x7fe95b268050>"
      ]
     },
     "metadata": {},
     "output_type": "display_data"
    }
   ],
   "source": [
    "fig, ax = plt.subplots()\n",
    "n, bins, patches = ax.hist(fb_data['screen'], 75, normed=False, range=[-1.0, 255], color='green')\n",
    "ax.set_xlabel('Screen Brightness')\n",
    "ax.set_ylabel('Number of Samples')\n",
    "fig.tight_layout()\n",
    "plt.show()"
   ]
  },
  {
   "cell_type": "code",
   "execution_count": 24,
   "metadata": {},
   "outputs": [
    {
     "data": {
      "image/png": "[encoded data removed]",
      "text/plain": [
       "<matplotlib.figure.Figure at 0x7fe95aad3390>"
      ]
     },
     "metadata": {},
     "output_type": "display_data"
    }
   ],
   "source": [
    "fig, ax = plt.subplots()\n",
    "n, bins, patches = ax.hist(fb_data['screen'], 100, normed=False, range=[0, 255], color='green')\n",
    "ax.set_xlabel('Screen Brightness')\n",
    "ax.set_ylabel('Number of Samples')\n",
    "fig.tight_layout()\n",
    "plt.show()"
   ]
  },
  {
   "cell_type": "markdown",
   "metadata": {},
   "source": [
    "# Mobile Network Type Distribution"
   ]
  },
  {
   "cell_type": "code",
   "execution_count": 25,
   "metadata": {},
   "outputs": [
    {
     "data": {
      "text/plain": [
       "Counter({'lte': 472175, '0': 112330, 'hspa': 103546, 'utms': 56764, 'hspap': 47630, 'edge': 45845, 'hsdpa': 27293, 'hsupa': 13091, 'ehrpd': 10978, '18': 9439, 'gprs': 5440, '1xrtt': 1848, 'evdo_a': 1764, 'unknown': 292, '16': 247, '30': 155, '19': 93, 'cdma': 31, 'null': 8, 'evdo_0': 1})"
      ]
     },
     "execution_count": 25,
     "metadata": {},
     "output_type": "execute_result"
    }
   ],
   "source": [
    "from collections import Counter\n",
    "network_type_counter = Counter(fb_data['mobile_network'])\n",
    "network_type_counter"
   ]
  },
  {
   "cell_type": "code",
   "execution_count": 26,
   "metadata": {},
   "outputs": [
    {
     "data": {
      "image/png": "[encoded data removed]",
      "text/plain": [
       "<matplotlib.figure.Figure at 0x7fe95b288450>"
      ]
     },
     "metadata": {},
     "output_type": "display_data"
    }
   ],
   "source": [
    "nt_labels, nt_values = zip(*network_type_counter.items())\n",
    "nt_indices = np.arange(len(nt_labels))\n",
    "width = 1\n",
    "fig, ax = plt.subplots()\n",
    "ax.set_ylabel('Number of Samples')\n",
    "ax.bar(nt_indices, nt_values, width, color = 'green')\n",
    "plt.xticks(nt_indices + width * 0.5, nt_labels)\n",
    "fig.autofmt_xdate()\n",
    "plt.show()"
   ]
  },
  {
   "cell_type": "markdown",
   "metadata": {},
   "source": [
    "# Network Distribution"
   ]
  },
  {
   "cell_type": "code",
   "execution_count": 27,
   "metadata": {},
   "outputs": [
    {
     "data": {
      "text/plain": [
       "Counter({'wifi': 513566, 'mobile': 302024, 'unknown': 93257, 'bluetooth tethering': 115, 'null': 8})"
      ]
     },
     "execution_count": 27,
     "metadata": {},
     "output_type": "execute_result"
    }
   ],
   "source": [
    "from collections import Counter\n",
    "network_counter = Counter(fb_data['network'])\n",
    "network_counter"
   ]
  },
  {
   "cell_type": "code",
   "execution_count": 28,
   "metadata": {
    "scrolled": true
   },
   "outputs": [
    {
     "data": {
      "image/png": "[encoded data removed]",
      "text/plain": [
       "<matplotlib.figure.Figure at 0x7fe95ad17b90>"
      ]
     },
     "metadata": {},
     "output_type": "display_data"
    }
   ],
   "source": [
    "n_labels, n_values = zip(*network_counter.items())\n",
    "n_indices = np.arange(len(n_labels))\n",
    "width = 1\n",
    "fig, ax = plt.subplots()\n",
    "ax.bar(n_indices, n_values, width, color = 'green')\n",
    "plt.xticks(n_indices + width * 0.5, n_labels)\n",
    "fig.autofmt_xdate()\n",
    "plt.show()"
   ]
  },
  {
   "cell_type": "markdown",
   "metadata": {},
   "source": [
    "# Wifi Strength Distribution"
   ]
  },
  {
   "cell_type": "code",
   "execution_count": 29,
   "metadata": {},
   "outputs": [
    {
     "data": {
      "text/plain": [
       "DescribeResult(nobs=908970, minmax=(-9999, 0), mean=-823.59545749584697, variance=6714531.2946358379, skewness=-3.2574111270119497, kurtosis=8.614950220202429)"
      ]
     },
     "execution_count": 29,
     "metadata": {},
     "output_type": "execute_result"
    }
   ],
   "source": [
    "stats.describe(fb_data['wifi_strength'])"
   ]
  },
  {
   "cell_type": "code",
   "execution_count": 30,
   "metadata": {},
   "outputs": [
    {
     "data": {
      "text/plain": [
       "array([-127.,  -75.,  -57.,  -47.,  -42.,  -33.,  -10.])"
      ]
     },
     "execution_count": 30,
     "metadata": {},
     "output_type": "execute_result"
    }
   ],
   "source": [
    "np.percentile(fb_data['wifi_strength'],  [25.0, 50.0, 75.0, 90.0, 95.0, 99.0, 99.99])"
   ]
  },
  {
   "cell_type": "code",
   "execution_count": 31,
   "metadata": {},
   "outputs": [
    {
     "data": {
      "image/png": "[encoded data removed]",
      "text/plain": [
       "<matplotlib.figure.Figure at 0x7fe95b2eee90>"
      ]
     },
     "metadata": {},
     "output_type": "display_data"
    }
   ],
   "source": [
    "fig, ax = plt.subplots()\n",
    "n, bins, patches = ax.hist(fb_data['wifi_strength'], 100, normed=False, range=[-127, 0], color='green')\n",
    "ax.set_xlabel('Wifi Strength')\n",
    "ax.set_ylabel('Number of Samples')\n",
    "fig.tight_layout()\n",
    "plt.show()"
   ]
  },
  {
   "cell_type": "code",
   "execution_count": 37,
   "metadata": {
    "scrolled": true
   },
   "outputs": [
    {
     "data": {
      "image/png": "[encoded data removed]",
      "text/plain": [
       "<matplotlib.figure.Figure at 0x7fe95aab5410>"
      ]
     },
     "metadata": {},
     "output_type": "display_data"
    }
   ],
   "source": [
    "fig, ax = plt.subplots()\n",
    "n, bins, patches = ax.hist(fb_data['wifi_strength'], 100, normed=False, range=[-100, 0], color='green')\n",
    "ax.set_xlabel('Wifi Signal Strength (dBm)')\n",
    "ax.set_ylabel('Number of Samples')\n",
    "fig.tight_layout()\n",
    "plt.show()"
   ]
  },
  {
   "cell_type": "markdown",
   "metadata": {},
   "source": [
    "# Wifi Speed Distribution\n"
   ]
  },
  {
   "cell_type": "code",
   "execution_count": 38,
   "metadata": {},
   "outputs": [
    {
     "data": {
      "text/plain": [
       "DescribeResult(nobs=908970, minmax=(-1, 866), mean=65.516604508399624, variance=14655.34096310013, skewness=3.7904013766596227, kurtosis=17.697548890288044)"
      ]
     },
     "execution_count": 38,
     "metadata": {},
     "output_type": "execute_result"
    }
   ],
   "source": [
    "stats.describe(fb_data['wifi_speed'])"
   ]
  },
  {
   "cell_type": "code",
   "execution_count": 39,
   "metadata": {},
   "outputs": [
    {
     "data": {
      "text/plain": [
       "array([  -1.,   -1.,   26.,   72.,  144.,  292.,  702.,  866.])"
      ]
     },
     "execution_count": 39,
     "metadata": {},
     "output_type": "execute_result"
    }
   ],
   "source": [
    "np.percentile(fb_data['wifi_speed'],  [0, 25.0, 50.0, 75.0, 90.0, 95.0, 99.0, 99.99])"
   ]
  },
  {
   "cell_type": "code",
   "execution_count": 40,
   "metadata": {},
   "outputs": [
    {
     "data": {
      "image/png": "[encoded data removed]",
      "text/plain": [
       "<matplotlib.figure.Figure at 0x7fe95b34c410>"
      ]
     },
     "metadata": {},
     "output_type": "display_data"
    }
   ],
   "source": [
    "fig, ax = plt.subplots()\n",
    "n, bins, patches = ax.hist(fb_data['wifi_speed'], 100, normed=False, range=[-1, 500], color='green')\n",
    "ax.set_xlabel('Wifi Strength')\n",
    "ax.set_ylabel('Number of Samples')\n",
    "fig.tight_layout()\n",
    "plt.show()"
   ]
  },
  {
   "cell_type": "code",
   "execution_count": 42,
   "metadata": {},
   "outputs": [
    {
     "data": {
      "image/png": "[encoded data removed]",
      "text/plain": [
       "<matplotlib.figure.Figure at 0x7fe95b21d350>"
      ]
     },
     "metadata": {},
     "output_type": "display_data"
    }
   ],
   "source": [
    "fig, ax = plt.subplots()\n",
    "n, bins, patches = ax.hist(fb_data['wifi_speed'], 100, normed=False, range=[0, 500], color='green')\n",
    "ax.set_xlabel('Wifi Speed (mbps)')\n",
    "ax.set_ylabel('Number of Samples')\n",
    "fig.tight_layout()\n",
    "plt.show()"
   ]
  }
 ],
 "metadata": {
  "kernelspec": {
   "display_name": "Python 2",
   "language": "python",
   "name": "python2"
  },
  "language_info": {
   "codemirror_mode": {
    "name": "ipython",
    "version": 2
   },
   "file_extension": ".py",
   "mimetype": "text/x-python",
   "name": "python",
   "nbconvert_exporter": "python",
   "pygments_lexer": "ipython2",
   "version": "2.7.14"
  }
 },
 "nbformat": 4,
 "nbformat_minor": 1
}
